{
 "cells": [
  {
   "cell_type": "code",
   "execution_count": 1,
   "metadata": {},
   "outputs": [],
   "source": [
    "import requests"
   ]
  },
  {
   "cell_type": "markdown",
   "metadata": {},
   "source": [
    "Now we will use requests to make a GET HTTP request for the following url = 'https://www.python.org/events/python-events/' by making a GET request.\n",
    "\n",
    "GET - Used to *request* data from a specified resource.\n",
    "\n",
    "POST - Used to send data to a server to create/update a resource."
   ]
  },
  {
   "cell_type": "code",
   "execution_count": 2,
   "metadata": {},
   "outputs": [],
   "source": [
    "url = 'https://www.python.org/events/python-events/'\n",
    "req = requests.get(url)"
   ]
  },
  {
   "cell_type": "code",
   "execution_count": 3,
   "metadata": {},
   "outputs": [
    {
     "data": {
      "text/plain": [
       "'<!doctype html>\\n<!--[if lt IE 7]>   <html class=\"no-js ie6 lt-ie7 lt-ie8 lt-ie9\">   <![endif]-->\\n<!--[if IE 7]>      <html class=\"no-js ie7 lt-ie8 lt-ie9\">          <![endif]-->\\n<!--[if IE 8]>      <h'"
      ]
     },
     "execution_count": 3,
     "metadata": {},
     "output_type": "execute_result"
    }
   ],
   "source": [
    "req.text[:200]"
   ]
  },
  {
   "cell_type": "markdown",
   "metadata": {},
   "source": [
    "This shows that we have now grabbed the HTML of this web page. So now we can use Beautiful Soup (bs4) module to parse he HTML and retrieve the event data."
   ]
  },
  {
   "cell_type": "code",
   "execution_count": 4,
   "metadata": {},
   "outputs": [],
   "source": [
    "#pip3 install bs4\n",
    "\n",
    "from bs4 import BeautifulSoup"
   ]
  },
  {
   "cell_type": "markdown",
   "metadata": {},
   "source": [
    "Let's create a BeautifulSoup object and pass it the HTML text."
   ]
  },
  {
   "cell_type": "code",
   "execution_count": 5,
   "metadata": {},
   "outputs": [],
   "source": [
    "soup = BeautifulSoup(req.text, 'lxml')"
   ]
  },
  {
   "cell_type": "code",
   "execution_count": 6,
   "metadata": {},
   "outputs": [],
   "source": [
    "events = soup.find('ul', {'class':'list-recent-events'})"
   ]
  },
  {
   "cell_type": "code",
   "execution_count": 7,
   "metadata": {},
   "outputs": [
    {
     "data": {
      "text/plain": [
       "bs4.element.ResultSet"
      ]
     },
     "execution_count": 7,
     "metadata": {},
     "output_type": "execute_result"
    }
   ],
   "source": [
    "type(events.findAll())"
   ]
  },
  {
   "cell_type": "code",
   "execution_count": 8,
   "metadata": {},
   "outputs": [
    {
     "data": {
      "text/plain": [
       "[<li>\n",
       " <h3 class=\"event-title\"><a href=\"/events/python-events/896/\">HackBVICAM National Student’s Convention 2k20</a></h3>\n",
       " <p>\n",
       " <time datetime=\"2020-03-13T00:00:00+00:00\">13 March<span class=\"say-no-more\"> 2020</span></time>\n",
       " <span class=\"event-location\">New Delhi, India</span>\n",
       " </p>\n",
       " </li>, <li>\n",
       " <h3 class=\"event-title\"><a href=\"/events/python-events/902/\">MoscowPythonConf++</a></h3>\n",
       " <p>\n",
       " <time datetime=\"2020-03-27T00:00:00+00:00\">27 March<span class=\"say-no-more\"> 2020</span></time>\n",
       " <span class=\"event-location\">Moscow, Russia</span>\n",
       " </p>\n",
       " </li>, <li>\n",
       " <h3 class=\"event-title\"><a href=\"/events/python-events/879/\">PyCon SK 2020</a></h3>\n",
       " <p>\n",
       " <time datetime=\"2020-03-27T00:00:00+00:00\">27 March – 29 March <span class=\"say-no-more\"> 2020</span></time>\n",
       " <span class=\"event-location\">Bratislava, Slovakia</span>\n",
       " </p>\n",
       " </li>, <li>\n",
       " <h3 class=\"event-title\"><a href=\"/events/python-events/884/\">PyCon Italia 2020</a></h3>\n",
       " <p>\n",
       " <time datetime=\"2020-04-02T00:00:00+00:00\">02 April – 05 April <span class=\"say-no-more\"> 2020</span></time>\n",
       " <span class=\"event-location\">Florence, Italy</span>\n",
       " </p>\n",
       " </li>, <li>\n",
       " <h3 class=\"event-title\"><a href=\"/events/python-events/894/\">PyCon US 2020</a></h3>\n",
       " <p>\n",
       " <time datetime=\"2020-04-15T00:00:00+00:00\">15 April – 23 April <span class=\"say-no-more\"> 2020</span></time>\n",
       " <span class=\"event-location\">Pittsburgh, PA, USA</span>\n",
       " </p>\n",
       " </li>, <li>\n",
       " <h3 class=\"event-title\"><a href=\"/events/python-events/881/\">Django Day Copenhagen</a></h3>\n",
       " <p>\n",
       " <time datetime=\"2020-04-17T00:00:00+00:00\">17 April<span class=\"say-no-more\"> 2020</span></time>\n",
       " <span class=\"event-location\">Copenhagen, Denmark</span>\n",
       " </p>\n",
       " </li>]"
      ]
     },
     "execution_count": 8,
     "metadata": {},
     "output_type": "execute_result"
    }
   ],
   "source": [
    "events.findAll('li')"
   ]
  },
  {
   "cell_type": "code",
   "execution_count": 9,
   "metadata": {},
   "outputs": [
    {
     "name": "stdout",
     "output_type": "stream",
     "text": [
      "{'name': 'HackBVICAM National Student’s Convention 2k20', 'time': '13 March 2020', 'location': 'New Delhi, India'}\n",
      "{'name': 'MoscowPythonConf++', 'time': '27 March 2020', 'location': 'Moscow, Russia'}\n",
      "{'name': 'PyCon SK 2020', 'time': '27 March – 29 March  2020', 'location': 'Bratislava, Slovakia'}\n",
      "{'name': 'PyCon Italia 2020', 'time': '02 April – 05 April  2020', 'location': 'Florence, Italy'}\n",
      "{'name': 'PyCon US 2020', 'time': '15 April – 23 April  2020', 'location': 'Pittsburgh, PA, USA'}\n",
      "{'name': 'Django Day Copenhagen', 'time': '17 April 2020', 'location': 'Copenhagen, Denmark'}\n"
     ]
    }
   ],
   "source": [
    "for event in events.findAll('li'):\n",
    "    d = dict()\n",
    "    d['name'] = event.find('h3').find('a').text\n",
    "    d['time'] = event.find('p').find('time').text\n",
    "    d['location'] = event.find('span', {'class':'event-location'}).text\n",
    "    \n",
    "    print(d)"
   ]
  },
  {
   "cell_type": "code",
   "execution_count": 10,
   "metadata": {},
   "outputs": [],
   "source": [
    "import pandas as pd\n",
    "\n",
    "df = pd.DataFrame()\n",
    "\n",
    "df['name'] = [e.find('a').text for e in events.findAll('h3')]\n",
    "df['time'] = [e.find('time').text for e in events.findAll('p')]\n",
    "df['location'] = [e.find('span', {'class':'event-location'}) for e in events.findAll('li')]"
   ]
  },
  {
   "cell_type": "code",
   "execution_count": 11,
   "metadata": {},
   "outputs": [
    {
     "data": {
      "text/html": [
       "<div>\n",
       "<style scoped>\n",
       "    .dataframe tbody tr th:only-of-type {\n",
       "        vertical-align: middle;\n",
       "    }\n",
       "\n",
       "    .dataframe tbody tr th {\n",
       "        vertical-align: top;\n",
       "    }\n",
       "\n",
       "    .dataframe thead th {\n",
       "        text-align: right;\n",
       "    }\n",
       "</style>\n",
       "<table border=\"1\" class=\"dataframe\">\n",
       "  <thead>\n",
       "    <tr style=\"text-align: right;\">\n",
       "      <th></th>\n",
       "      <th>name</th>\n",
       "      <th>time</th>\n",
       "      <th>location</th>\n",
       "    </tr>\n",
       "  </thead>\n",
       "  <tbody>\n",
       "    <tr>\n",
       "      <th>0</th>\n",
       "      <td>HackBVICAM National Student’s Convention 2k20</td>\n",
       "      <td>13 March 2020</td>\n",
       "      <td>[New Delhi, India]</td>\n",
       "    </tr>\n",
       "    <tr>\n",
       "      <th>1</th>\n",
       "      <td>MoscowPythonConf++</td>\n",
       "      <td>27 March 2020</td>\n",
       "      <td>[Moscow, Russia]</td>\n",
       "    </tr>\n",
       "    <tr>\n",
       "      <th>2</th>\n",
       "      <td>PyCon SK 2020</td>\n",
       "      <td>27 March – 29 March  2020</td>\n",
       "      <td>[Bratislava, Slovakia]</td>\n",
       "    </tr>\n",
       "    <tr>\n",
       "      <th>3</th>\n",
       "      <td>PyCon Italia 2020</td>\n",
       "      <td>02 April – 05 April  2020</td>\n",
       "      <td>[Florence, Italy]</td>\n",
       "    </tr>\n",
       "    <tr>\n",
       "      <th>4</th>\n",
       "      <td>PyCon US 2020</td>\n",
       "      <td>15 April – 23 April  2020</td>\n",
       "      <td>[Pittsburgh, PA, USA]</td>\n",
       "    </tr>\n",
       "    <tr>\n",
       "      <th>5</th>\n",
       "      <td>Django Day Copenhagen</td>\n",
       "      <td>17 April 2020</td>\n",
       "      <td>[Copenhagen, Denmark]</td>\n",
       "    </tr>\n",
       "  </tbody>\n",
       "</table>\n",
       "</div>"
      ],
      "text/plain": [
       "                                            name                       time  \\\n",
       "0  HackBVICAM National Student’s Convention 2k20              13 March 2020   \n",
       "1                             MoscowPythonConf++              27 March 2020   \n",
       "2                                  PyCon SK 2020  27 March – 29 March  2020   \n",
       "3                              PyCon Italia 2020  02 April – 05 April  2020   \n",
       "4                                  PyCon US 2020  15 April – 23 April  2020   \n",
       "5                          Django Day Copenhagen              17 April 2020   \n",
       "\n",
       "                 location  \n",
       "0      [New Delhi, India]  \n",
       "1        [Moscow, Russia]  \n",
       "2  [Bratislava, Slovakia]  \n",
       "3       [Florence, Italy]  \n",
       "4   [Pittsburgh, PA, USA]  \n",
       "5   [Copenhagen, Denmark]  "
      ]
     },
     "execution_count": 11,
     "metadata": {},
     "output_type": "execute_result"
    }
   ],
   "source": [
    "df"
   ]
  },
  {
   "cell_type": "markdown",
   "metadata": {},
   "source": [
    "## Things to keep in mind\n",
    "\n",
    "1. Requests is used to exeucte HTTP requests. It helps in GET and POST request's responses.\n",
    "\n",
    "2. Requests object holds the results of the request.\n",
    "\n",
    "3. We use bs4 to do the parsing of the HTML and also finding of content withing the HTML."
   ]
  },
  {
   "cell_type": "markdown",
   "metadata": {},
   "source": [
    "## Assignment\n",
    "\n",
    "Go to the https://www.python.org/jobs/ url and grab all recent jobs posted on the url."
   ]
  },
  {
   "cell_type": "code",
   "execution_count": null,
   "metadata": {},
   "outputs": [],
   "source": []
  }
 ],
 "metadata": {
  "kernelspec": {
   "display_name": "Python 3",
   "language": "python",
   "name": "python3"
  },
  "language_info": {
   "codemirror_mode": {
    "name": "ipython",
    "version": 3
   },
   "file_extension": ".py",
   "mimetype": "text/x-python",
   "name": "python",
   "nbconvert_exporter": "python",
   "pygments_lexer": "ipython3",
   "version": "3.6.9"
  }
 },
 "nbformat": 4,
 "nbformat_minor": 4
}
