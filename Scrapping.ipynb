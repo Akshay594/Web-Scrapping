{
 "cells": [
  {
   "cell_type": "markdown",
   "metadata": {},
   "source": [
    "## webbrowser module"
   ]
  },
  {
   "cell_type": "code",
   "execution_count": 1,
   "metadata": {},
   "outputs": [],
   "source": [
    "import webbrowser"
   ]
  },
  {
   "cell_type": "code",
   "execution_count": 4,
   "metadata": {},
   "outputs": [
    {
     "data": {
      "text/plain": [
       "True"
      ]
     },
     "execution_count": 4,
     "metadata": {},
     "output_type": "execute_result"
    }
   ],
   "source": [
    "webbrowser.open('https://gopalpanwar.tech')"
   ]
  },
  {
   "cell_type": "code",
   "execution_count": 5,
   "metadata": {},
   "outputs": [],
   "source": [
    "import pyperclip"
   ]
  },
  {
   "cell_type": "code",
   "execution_count": 6,
   "metadata": {},
   "outputs": [],
   "source": [
    "string = \"Hello\"\n",
    "\n",
    "val = pyperclip.copy(string)"
   ]
  },
  {
   "cell_type": "code",
   "execution_count": 8,
   "metadata": {},
   "outputs": [
    {
     "data": {
      "text/plain": [
       "'https://www.google.com/search?sxsrf=ALeKk03as8j7zKmtkUfaMcr5lHYQSsAokQ:1582707805074&q=ad+hoc+networks+jaipur&npsic=0&rflfq=1&rlha=0&rllag=26848742,75800383,4&tbm=lcl&ved=2ahUKEwjLpYSE7u7nAhV5yzgGHVonDPgQtgN6BAgJEAQ&tbs=lrf:!1m4!1u2!2m2!2m1!1e1!2m1!1e2!3sIAE,lf:1,lf_ui:2&rldoc=1'"
      ]
     },
     "execution_count": 8,
     "metadata": {},
     "output_type": "execute_result"
    }
   ],
   "source": [
    "pyperclip.paste()"
   ]
  },
  {
   "cell_type": "code",
   "execution_count": 9,
   "metadata": {},
   "outputs": [],
   "source": [
    "def get_address():\n",
    "    val = pyperclip.paste()\n",
    "    webbrowser.open(val)"
   ]
  },
  {
   "cell_type": "code",
   "execution_count": 10,
   "metadata": {},
   "outputs": [],
   "source": [
    "get_address()"
   ]
  },
  {
   "cell_type": "markdown",
   "metadata": {},
   "source": [
    "## Downloading Files from the Web with the requests Module"
   ]
  },
  {
   "cell_type": "code",
   "execution_count": 13,
   "metadata": {},
   "outputs": [],
   "source": [
    "url = \"https://chrome.google.com/webstore/detail/search-by-image-by-google/dajedkncpodkggklbegccjpmnglmnflm\""
   ]
  },
  {
   "cell_type": "code",
   "execution_count": 14,
   "metadata": {},
   "outputs": [],
   "source": [
    "import requests\n",
    "\n",
    "res = requests.get(url)"
   ]
  },
  {
   "cell_type": "code",
   "execution_count": 15,
   "metadata": {},
   "outputs": [
    {
     "data": {
      "text/plain": [
       "200"
      ]
     },
     "execution_count": 15,
     "metadata": {},
     "output_type": "execute_result"
    }
   ],
   "source": [
    "res.status_code"
   ]
  },
  {
   "cell_type": "code",
   "execution_count": 17,
   "metadata": {},
   "outputs": [
    {
     "data": {
      "text/plain": [
       "True"
      ]
     },
     "execution_count": 17,
     "metadata": {},
     "output_type": "execute_result"
    }
   ],
   "source": [
    "res.status_code == requests.codes.ok"
   ]
  },
  {
   "cell_type": "code",
   "execution_count": 18,
   "metadata": {},
   "outputs": [],
   "source": [
    "res.raise_for_status()"
   ]
  },
  {
   "cell_type": "code",
   "execution_count": 19,
   "metadata": {},
   "outputs": [],
   "source": [
    "url = \"https://gopalpanwar.tech/page_does_not_exist\"\n",
    "\n",
    "res = requests.get(url)"
   ]
  },
  {
   "cell_type": "code",
   "execution_count": 20,
   "metadata": {},
   "outputs": [
    {
     "ename": "HTTPError",
     "evalue": "404 Client Error: Not Found for url: https://gopalpanwar.tech/page_does_not_exist",
     "output_type": "error",
     "traceback": [
      "\u001b[0;31m---------------------------------------------------------------------------\u001b[0m",
      "\u001b[0;31mHTTPError\u001b[0m                                 Traceback (most recent call last)",
      "\u001b[0;32m<ipython-input-20-cd6be6b74546>\u001b[0m in \u001b[0;36m<module>\u001b[0;34m\u001b[0m\n\u001b[0;32m----> 1\u001b[0;31m \u001b[0mres\u001b[0m\u001b[0;34m.\u001b[0m\u001b[0mraise_for_status\u001b[0m\u001b[0;34m(\u001b[0m\u001b[0;34m)\u001b[0m\u001b[0;34m\u001b[0m\u001b[0;34m\u001b[0m\u001b[0m\n\u001b[0m",
      "\u001b[0;32m~/ml_env/lib/python3.6/site-packages/requests/models.py\u001b[0m in \u001b[0;36mraise_for_status\u001b[0;34m(self)\u001b[0m\n\u001b[1;32m    939\u001b[0m \u001b[0;34m\u001b[0m\u001b[0m\n\u001b[1;32m    940\u001b[0m         \u001b[0;32mif\u001b[0m \u001b[0mhttp_error_msg\u001b[0m\u001b[0;34m:\u001b[0m\u001b[0;34m\u001b[0m\u001b[0;34m\u001b[0m\u001b[0m\n\u001b[0;32m--> 941\u001b[0;31m             \u001b[0;32mraise\u001b[0m \u001b[0mHTTPError\u001b[0m\u001b[0;34m(\u001b[0m\u001b[0mhttp_error_msg\u001b[0m\u001b[0;34m,\u001b[0m \u001b[0mresponse\u001b[0m\u001b[0;34m=\u001b[0m\u001b[0mself\u001b[0m\u001b[0;34m)\u001b[0m\u001b[0;34m\u001b[0m\u001b[0;34m\u001b[0m\u001b[0m\n\u001b[0m\u001b[1;32m    942\u001b[0m \u001b[0;34m\u001b[0m\u001b[0m\n\u001b[1;32m    943\u001b[0m     \u001b[0;32mdef\u001b[0m \u001b[0mclose\u001b[0m\u001b[0;34m(\u001b[0m\u001b[0mself\u001b[0m\u001b[0;34m)\u001b[0m\u001b[0;34m:\u001b[0m\u001b[0;34m\u001b[0m\u001b[0;34m\u001b[0m\u001b[0m\n",
      "\u001b[0;31mHTTPError\u001b[0m: 404 Client Error: Not Found for url: https://gopalpanwar.tech/page_does_not_exist"
     ]
    }
   ],
   "source": [
    "res.raise_for_status()"
   ]
  },
  {
   "cell_type": "code",
   "execution_count": 21,
   "metadata": {},
   "outputs": [
    {
     "data": {
      "text/plain": [
       "404"
      ]
     },
     "execution_count": 21,
     "metadata": {},
     "output_type": "execute_result"
    }
   ],
   "source": [
    "res.status_code"
   ]
  },
  {
   "cell_type": "code",
   "execution_count": 22,
   "metadata": {},
   "outputs": [
    {
     "name": "stdout",
     "output_type": "stream",
     "text": [
      "Something went wrong, error is 404 Client Error: Not Found for url: https://gopalpanwar.tech/page_does_not_exist\n"
     ]
    }
   ],
   "source": [
    "try:\n",
    "    res.raise_for_status()\n",
    "except Exception as e:\n",
    "    print(f\"Something went wrong, error is {e}\")"
   ]
  },
  {
   "cell_type": "code",
   "execution_count": 25,
   "metadata": {},
   "outputs": [],
   "source": [
    "url = \"https://chrome.google.com/webstore/detail/search-by-image-by-google/dajedkncpodkggklbegccjpmnglmnflm\"\n",
    "res = requests.get(url)"
   ]
  },
  {
   "cell_type": "code",
   "execution_count": 26,
   "metadata": {},
   "outputs": [],
   "source": [
    "res.raise_for_status()"
   ]
  },
  {
   "cell_type": "markdown",
   "metadata": {},
   "source": [
    "## Downloading files"
   ]
  },
  {
   "cell_type": "code",
   "execution_count": 27,
   "metadata": {},
   "outputs": [],
   "source": [
    "url = \"https://www.python.org/static/community_logos/python-logo-master-v3-TM.png\""
   ]
  },
  {
   "cell_type": "code",
   "execution_count": 28,
   "metadata": {},
   "outputs": [],
   "source": [
    "req = requests.get(url)"
   ]
  },
  {
   "cell_type": "code",
   "execution_count": 30,
   "metadata": {},
   "outputs": [
    {
     "data": {
      "text/plain": [
       "b'\\x89PNG\\r\\n\\x1a\\n\\x00\\x00'"
      ]
     },
     "execution_count": 30,
     "metadata": {},
     "output_type": "execute_result"
    }
   ],
   "source": [
    "req.content[:10]"
   ]
  },
  {
   "cell_type": "code",
   "execution_count": 31,
   "metadata": {},
   "outputs": [
    {
     "data": {
      "text/plain": [
       "bytes"
      ]
     },
     "execution_count": 31,
     "metadata": {},
     "output_type": "execute_result"
    }
   ],
   "source": [
    "type(b'1221')"
   ]
  },
  {
   "cell_type": "code",
   "execution_count": 32,
   "metadata": {},
   "outputs": [
    {
     "data": {
      "text/plain": [
       "'0b10011000101'"
      ]
     },
     "execution_count": 32,
     "metadata": {},
     "output_type": "execute_result"
    }
   ],
   "source": [
    "bin(1221)"
   ]
  },
  {
   "cell_type": "code",
   "execution_count": 33,
   "metadata": {},
   "outputs": [],
   "source": [
    "with open('img.png', 'wb') as f:\n",
    "    f.write(req.content)"
   ]
  },
  {
   "cell_type": "code",
   "execution_count": 34,
   "metadata": {},
   "outputs": [],
   "source": [
    "from bs4 import BeautifulSoup"
   ]
  },
  {
   "cell_type": "code",
   "execution_count": 37,
   "metadata": {},
   "outputs": [],
   "source": [
    "url = \"http://www-personal.umich.edu/~csev/books/py4inf/media/\"\n",
    "\n",
    "req = requests.get(url)\n",
    "soup = BeautifulSoup(req.content, 'html5lib')"
   ]
  },
  {
   "cell_type": "code",
   "execution_count": 41,
   "metadata": {},
   "outputs": [
    {
     "data": {
      "text/plain": [
       "[<a href=\"?C=N;O=D\">Name</a>,\n",
       " <a href=\"?C=M;O=A\">Last modified</a>,\n",
       " <a href=\"?C=S;O=A\">Size</a>,\n",
       " <a href=\"?C=D;O=A\">Description</a>,\n",
       " <a href=\"/~csev/books/py4inf/\">     </a>,\n",
       " <a href=\"/~csev/books/py4inf/\">Parent Directory</a>,\n",
       " <a href=\"PY4INF-13-Webservices-01.mp4\">     </a>,\n",
       " <a href=\"PY4INF-13-Webservices-01.mp4\">PY4INF-13-Webservice..&gt;</a>,\n",
       " <a href=\"PY4INF-13-Webservices-02.mp4\">     </a>,\n",
       " <a href=\"PY4INF-13-Webservices-02.mp4\">PY4INF-13-Webservice..&gt;</a>,\n",
       " <a href=\"PY4INF-13-Webservices-03.mp4\">     </a>,\n",
       " <a href=\"PY4INF-13-Webservices-03.mp4\">PY4INF-13-Webservice..&gt;</a>,\n",
       " <a href=\"Py4Inf-00-Autograder.mp4\">     </a>,\n",
       " <a href=\"Py4Inf-00-Autograder.mp4\">Py4Inf-00-Autograder..&gt;</a>,\n",
       " <a href=\"Py4Inf-00-Day-One.mp4\">     </a>]"
      ]
     },
     "execution_count": 41,
     "metadata": {},
     "output_type": "execute_result"
    }
   ],
   "source": [
    "soup.findAll('a')[:15]"
   ]
  },
  {
   "cell_type": "code",
   "execution_count": 43,
   "metadata": {},
   "outputs": [],
   "source": [
    "links = soup.findAll('a')"
   ]
  },
  {
   "cell_type": "code",
   "execution_count": 48,
   "metadata": {},
   "outputs": [
    {
     "name": "stdout",
     "output_type": "stream",
     "text": [
      "<a href=\"PY4INF-13-Webservices-01.mp4\">     </a>\n",
      "<a href=\"PY4INF-13-Webservices-01.mp4\">PY4INF-13-Webservice..&gt;</a>\n",
      "<a href=\"PY4INF-13-Webservices-02.mp4\">     </a>\n",
      "<a href=\"PY4INF-13-Webservices-02.mp4\">PY4INF-13-Webservice..&gt;</a>\n",
      "<a href=\"PY4INF-13-Webservices-03.mp4\">     </a>\n",
      "<a href=\"PY4INF-13-Webservices-03.mp4\">PY4INF-13-Webservice..&gt;</a>\n",
      "<a href=\"Py4Inf-00-Autograder.mp4\">     </a>\n",
      "<a href=\"Py4Inf-00-Autograder.mp4\">Py4Inf-00-Autograder..&gt;</a>\n",
      "<a href=\"Py4Inf-00-Day-One.mp4\">     </a>\n",
      "<a href=\"Py4Inf-00-Day-One.mp4\">Py4Inf-00-Day-One.mp4</a>\n",
      "<a href=\"Py4Inf-01-Intro.mp4\">     </a>\n",
      "<a href=\"Py4Inf-01-Intro.mp4\">Py4Inf-01-Intro.mp4</a>\n",
      "<a href=\"Py4Inf-02-Expressions.mp4\">     </a>\n",
      "<a href=\"Py4Inf-02-Expressions.mp4\">Py4Inf-02-Expression..&gt;</a>\n",
      "<a href=\"Py4Inf-03-Conditional.mp4\">     </a>\n",
      "<a href=\"Py4Inf-03-Conditional.mp4\">Py4Inf-03-Conditiona..&gt;</a>\n",
      "<a href=\"Py4Inf-04-Functions.mp4\">     </a>\n",
      "<a href=\"Py4Inf-04-Functions.mp4\">Py4Inf-04-Functions.mp4</a>\n",
      "<a href=\"Py4Inf-05-Iterations.mp4\">     </a>\n",
      "<a href=\"Py4Inf-05-Iterations.mp4\">Py4Inf-05-Iterations..&gt;</a>\n",
      "<a href=\"Py4Inf-06-Strings.mp4\">     </a>\n",
      "<a href=\"Py4Inf-06-Strings.mp4\">Py4Inf-06-Strings.mp4</a>\n",
      "<a href=\"Py4Inf-07-Files.mp4\">     </a>\n",
      "<a href=\"Py4Inf-07-Files.mp4\">Py4Inf-07-Files.mp4</a>\n",
      "<a href=\"Py4Inf-08-Lists.mp4\">     </a>\n",
      "<a href=\"Py4Inf-08-Lists.mp4\">Py4Inf-08-Lists.mp4</a>\n",
      "<a href=\"Py4Inf-09-Dictionaries.mp4\">     </a>\n",
      "<a href=\"Py4Inf-09-Dictionaries.mp4\">Py4Inf-09-Dictionari..&gt;</a>\n",
      "<a href=\"Py4Inf-10-Tuples.mp4\">     </a>\n",
      "<a href=\"Py4Inf-10-Tuples.mp4\">Py4Inf-10-Tuples.mp4</a>\n",
      "<a href=\"Py4Inf-11-Regex.mp4\">     </a>\n",
      "<a href=\"Py4Inf-11-Regex.mp4\">Py4Inf-11-Regex.mp4</a>\n",
      "<a href=\"Py4Inf-13-Webservices-01.mp4\">     </a>\n",
      "<a href=\"Py4Inf-13-Webservices-01.mp4\">Py4Inf-13-Webservice..&gt;</a>\n",
      "<a href=\"Py4Inf-13-Webservices-02.mp4\">     </a>\n",
      "<a href=\"Py4Inf-13-Webservices-02.mp4\">Py4Inf-13-Webservice..&gt;</a>\n",
      "<a href=\"Py4Inf-13-Webservices-03.mp4\">     </a>\n",
      "<a href=\"Py4Inf-13-Webservices-03.mp4\">Py4Inf-13-Webservice..&gt;</a>\n",
      "<a href=\"Py4Inf-ex-02-02.mp4\">     </a>\n",
      "<a href=\"Py4Inf-ex-02-02.mp4\">Py4Inf-ex-02-02.mp4</a>\n",
      "<a href=\"Py4Inf-ex-02-03.mp4\">     </a>\n",
      "<a href=\"Py4Inf-ex-02-03.mp4\">Py4Inf-ex-02-03.mp4</a>\n",
      "<a href=\"Py4Inf-ex-03-01.mp4\">     </a>\n",
      "<a href=\"Py4Inf-ex-03-01.mp4\">Py4Inf-ex-03-01.mp4</a>\n",
      "<a href=\"Py4Inf-ex-03-02.mp4\">     </a>\n",
      "<a href=\"Py4Inf-ex-03-02.mp4\">Py4Inf-ex-03-02.mp4</a>\n",
      "<a href=\"Py4Inf-ex-04-06.mp4\">     </a>\n",
      "<a href=\"Py4Inf-ex-04-06.mp4\">Py4Inf-ex-04-06.mp4</a>\n",
      "<a href=\"Py4Inf-ex-05-01.mp4\">     </a>\n",
      "<a href=\"Py4Inf-ex-05-01.mp4\">Py4Inf-ex-05-01.mp4</a>\n",
      "<a href=\"Py4Inf-ex-06-07.mp4\">     </a>\n",
      "<a href=\"Py4Inf-ex-06-07.mp4\">Py4Inf-ex-06-07.mp4</a>\n",
      "<a href=\"Py4Inf-ex-07-01.mp4\">     </a>\n",
      "<a href=\"Py4Inf-ex-07-01.mp4\">Py4Inf-ex-07-01.mp4</a>\n",
      "<a href=\"Py4Inf-ex-08.mp4\">     </a>\n",
      "<a href=\"Py4Inf-ex-08.mp4\">Py4Inf-ex-08.mp4</a>\n",
      "<a href=\"Py4Inf-ex-09.mp4\">     </a>\n",
      "<a href=\"Py4Inf-ex-09.mp4\">Py4Inf-ex-09.mp4</a>\n",
      "<a href=\"Py4Inf-ex-10.mp4\">     </a>\n",
      "<a href=\"Py4Inf-ex-10.mp4\">Py4Inf-ex-10.mp4</a>\n",
      "<a href=\"Py4Inf-ex-12-04.mp4\">     </a>\n",
      "<a href=\"Py4Inf-ex-12-04.mp4\">Py4Inf-ex-12-04.mp4</a>\n",
      "<a href=\"Py4Inf-ex-13-01.mp4\">     </a>\n",
      "<a href=\"Py4Inf-ex-13-01.mp4\">Py4Inf-ex-13-01.mp4</a>\n"
     ]
    }
   ],
   "source": [
    "for link in links:\n",
    "    if link[\"href\"].endswith(\"mp4\"):\n",
    "        print(link)"
   ]
  },
  {
   "cell_type": "code",
   "execution_count": 49,
   "metadata": {},
   "outputs": [],
   "source": [
    "def get_video_link(url):\n",
    "    req = requests.get(url)\n",
    "    soup = BeautifulSoup(req.content, 'html5lib')\n",
    "    links = soup.findAll('a')\n",
    "    \n",
    "    video_links = [url + link['href'] for link in links if link['href'].endswith('mp4')]\n",
    "    return video_links"
   ]
  },
  {
   "cell_type": "markdown",
   "metadata": {},
   "source": [
    "http://www-personal.umich.edu/~csev/books/py4inf/media/"
   ]
  },
  {
   "cell_type": "code",
   "execution_count": 51,
   "metadata": {},
   "outputs": [
    {
     "data": {
      "text/plain": [
       "['http://www-personal.umich.edu/~csev/books/py4inf/media/PY4INF-13-Webservices-01.mp4',\n",
       " 'http://www-personal.umich.edu/~csev/books/py4inf/media/PY4INF-13-Webservices-01.mp4',\n",
       " 'http://www-personal.umich.edu/~csev/books/py4inf/media/PY4INF-13-Webservices-02.mp4',\n",
       " 'http://www-personal.umich.edu/~csev/books/py4inf/media/PY4INF-13-Webservices-02.mp4',\n",
       " 'http://www-personal.umich.edu/~csev/books/py4inf/media/PY4INF-13-Webservices-03.mp4']"
      ]
     },
     "execution_count": 51,
     "metadata": {},
     "output_type": "execute_result"
    }
   ],
   "source": [
    "get_video_link(url)[:5]"
   ]
  },
  {
   "cell_type": "code",
   "execution_count": 52,
   "metadata": {},
   "outputs": [],
   "source": [
    "def download_video_series(video_links): \n",
    "  \n",
    "    for link in video_links: \n",
    "        file_name = link.split('/')[-1]    \n",
    "        print(f\"Downloading file {file_name}\" )\n",
    "        r = requests.get(link, stream=True) \n",
    "        with open(file_name, 'wb') as f: \n",
    "            for chunk in r.iter_content(chunk_size = 1024*1024): \n",
    "                if chunk: \n",
    "                    f.write(chunk) \n",
    "          \n",
    "        print(f\"Downloaded {file_name}\")\n",
    "  \n",
    "    print(\"All videos downloaded!\")"
   ]
  },
  {
   "cell_type": "code",
   "execution_count": 54,
   "metadata": {},
   "outputs": [],
   "source": [
    "links = get_video_link(url)"
   ]
  },
  {
   "cell_type": "code",
   "execution_count": null,
   "metadata": {},
   "outputs": [
    {
     "name": "stdout",
     "output_type": "stream",
     "text": [
      "Downloading file PY4INF-13-Webservices-01.mp4\n"
     ]
    }
   ],
   "source": [
    "download_video_series(links)"
   ]
  },
  {
   "cell_type": "code",
   "execution_count": null,
   "metadata": {},
   "outputs": [],
   "source": []
  }
 ],
 "metadata": {
  "kernelspec": {
   "display_name": "Python 3",
   "language": "python",
   "name": "python3"
  },
  "language_info": {
   "codemirror_mode": {
    "name": "ipython",
    "version": 3
   },
   "file_extension": ".py",
   "mimetype": "text/x-python",
   "name": "python",
   "nbconvert_exporter": "python",
   "pygments_lexer": "ipython3",
   "version": "3.6.9"
  }
 },
 "nbformat": 4,
 "nbformat_minor": 4
}
